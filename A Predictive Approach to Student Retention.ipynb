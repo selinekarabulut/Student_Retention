{
 "cells": [
  {
   "cell_type": "markdown",
   "id": "b7de98de",
   "metadata": {},
   "source": [
    "# Analyzing Students' Dropout: A Predictive Approach to Student Retention"
   ]
  },
  {
   "cell_type": "markdown",
   "id": "6915f7f1",
   "metadata": {},
   "source": [
    "\n",
    "\n",
    "**Research Question:** How do different factors (academic path, demographics, and social-economic factors) impact whether a student drops out, remains enrolled, or graduates?\n",
    "\n",
    "**Data:** UC Irvine Machine Learning Repository\n",
    "\n",
    "https://archive.ics.uci.edu/dataset/697/predict+students+dropout+and+academic+success"
   ]
  },
  {
   "cell_type": "markdown",
   "id": "fb6c4fb2",
   "metadata": {},
   "source": [
    "**Executive Summary**\n",
    "\n",
    "In this study, the objective was to delve into a dataset comprising diverse information about students to discern the various factors that impact their academic trajectories, focusing particularly on the likelihood of them dropping out, remaining enrolled, or graduating. The dataset provided a rich source of details about each student, including their age, origin, grades, scholarship status, and broader economic indicators like the prevailing unemployment rate in the country.\n",
    "\n",
    "The initial step involved a meticulous examination of the data to understand the general trends in student outcomes. It was observed that the majority of students in the dataset had graduated, but there were fewer data points for students who either dropped out or continued to be enrolled. After handling this class imbalance, a computational model was developed to predict student outcomes using the provided information.\n",
    "\n",
    "The model demonstrated substantial accuracy, correctly predicting outcomes approximately 76% of the time during testing phases. It revealed that the entry grade and the age of a student when commencing their studies were pivotal factors influencing their academic progression. \n",
    "\n",
    "To ensure the reliability of the model and to negate the possibility of its performance being a mere stroke of luck with the initial data, it was tested multiple times using varied data segments. The model maintained a consistent accuracy rate of around 77% across different tests.\n",
    "\n",
    "In conclusion, the insights derived from this analysis are invaluable, shedding light on the potential determinants of a student's academic journey. While the model serves as a substantial aid in understanding student behaviors and outcomes, it is crucial to acknowledge the uniqueness of each student. The insights gained from this study can assist educational institutions in refining their support structures by focusing on the identified influential factors, thereby fostering an environment conducive to academic success and student well-being."
   ]
  },
  {
   "cell_type": "markdown",
   "id": "c74f1176",
   "metadata": {},
   "source": [
    "**Technical Summary**\n",
    "\n",
    "*Objective*\n",
    "\n",
    "The primary aim of our analysis was to understand the factors influencing student outcomes (Dropout, Enrolled, Graduate) using a provided dataset and to build a predictive model that can accurately classify students based on their characteristics and past academic performance.\n",
    "\n",
    "*Dataset Overview:*\n",
    "\n",
    "The dataset comprises various features, including demographic information (e.g., age, gender, nationality), academic records (e.g., admission grade, curricular units credited), socio-economic indicators (e.g., scholarship holder, tuition fees status), and macroeconomic factors (e.g., GDP, unemployment rate, inflation rate).\n",
    "\n",
    "*Data Exploration:*\n",
    "\n",
    "* The dataset was initially explored to understand the distribution of various features and the target variable.\n",
    "* A class imbalance in the target variable, with a majority of students being classified as \"Graduate.\"\n",
    "\n",
    "*Class Imbalance:*\n",
    "\n",
    "To address the class imbalance observed in the target variable, the Synthetic Minority Over-sampling Technique (SMOTE) was applied.\n",
    "\n",
    "*Data Preprocessing:*\n",
    "\n",
    "* Categorical variables were one-hot encoded, and the dataset was split into training and testing sets for model evaluation.\n",
    "* Principal Component Analysis (PCA) was employed to reduce dimensionality, retaining the top 100 components that captured over 90% of the variance.\n",
    "\n",
    "*Modeling:*\n",
    "\n",
    "* A Random Forest classifier was chosen due to its robustness and ability to handle a mix of continuous and categorical features.\n",
    "* The classifier achieved an accuracy of approximately 76.38% on the test set, with particularly strong performance for the \"Dropout\" and \"Graduate\" classes. However, performance for the \"Enrolled\" class was suboptimal.\n",
    "\n",
    "*Feature Importance:*\n",
    "\n",
    "The most influential features in the model's decision-making process were identified as \"Admission grade,\" \"Age at enrollment,\" and several others.\n",
    "\n",
    "*Validation:*\n",
    "\n",
    "* The model's findings were validated using Precision, Recall, and F1-Score metrics for each class.\n",
    "* 5-fold cross-validation further confirmed the model's robustness, yielding an average accuracy of approximately 77%, indicating that the model's performance was consistent across different train-test splits.\n",
    "\n",
    "*Conclusion:*\n",
    "\n",
    "The analysis provides a comprehensive understanding of the factors influencing student outcomes. The insights derived from feature importance can guide interventions and strategies to improve student outcomes in real-world educational settings.\n"
   ]
  },
  {
   "cell_type": "markdown",
   "id": "2e197368",
   "metadata": {},
   "source": [
    "**Steps taken:**\n",
    "* Load Data\n",
    "* EDA\n",
    "* Feature Engineering\n",
    "    * One-hot encode the categorical variables\n",
    "    * Normalize or standardize the continuous features\n",
    "* Random Forest Classifier\n",
    "* Reduce Dimensionality\n",
    "    * PCA\n",
    "* Handle Class Imbalance \n",
    "    * SMOTE\n",
    "* Results\n",
    "    * Feature Importance\n",
    "    * Confusion Matrix\n",
    "* Validate Results\n",
    "    * Precision, Recall, and F1-Score\n",
    "    * Cross Validation"
   ]
  },
  {
   "cell_type": "markdown",
   "id": "cd5aa156",
   "metadata": {},
   "source": [
    "## Load Dataset"
   ]
  },
  {
   "cell_type": "code",
   "execution_count": 3,
   "id": "18102e25",
   "metadata": {},
   "outputs": [
    {
     "data": {
      "text/html": [
       "<div>\n",
       "<style scoped>\n",
       "    .dataframe tbody tr th:only-of-type {\n",
       "        vertical-align: middle;\n",
       "    }\n",
       "\n",
       "    .dataframe tbody tr th {\n",
       "        vertical-align: top;\n",
       "    }\n",
       "\n",
       "    .dataframe thead th {\n",
       "        text-align: right;\n",
       "    }\n",
       "</style>\n",
       "<table border=\"1\" class=\"dataframe\">\n",
       "  <thead>\n",
       "    <tr style=\"text-align: right;\">\n",
       "      <th></th>\n",
       "      <th>Marital status;Application mode;Application order;Course;\"Daytime/evening attendance\\t\";Previous qualification;Previous qualification (grade);Nacionality;Mother's qualification;Father's qualification;Mother's occupation;Father's occupation;Admission grade;Displaced;Educational special needs;Debtor;Tuition fees up to date;Gender;Scholarship holder;Age at enrollment;International;Curricular units 1st sem (credited);Curricular units 1st sem (enrolled);Curricular units 1st sem (evaluations);Curricular units 1st sem (approved);Curricular units 1st sem (grade);Curricular units 1st sem (without evaluations);Curricular units 2nd sem (credited);Curricular units 2nd sem (enrolled);Curricular units 2nd sem (evaluations);Curricular units 2nd sem (approved);Curricular units 2nd sem (grade);Curricular units 2nd sem (without evaluations);Unemployment rate;Inflation rate;GDP;Target</th>\n",
       "    </tr>\n",
       "  </thead>\n",
       "  <tbody>\n",
       "    <tr>\n",
       "      <th>0</th>\n",
       "      <td>1;17;5;171;1;1;122.0;1;19;12;5;9;127.3;1;0;0;1...</td>\n",
       "    </tr>\n",
       "    <tr>\n",
       "      <th>1</th>\n",
       "      <td>1;15;1;9254;1;1;160.0;1;1;3;3;3;142.5;1;0;0;0;...</td>\n",
       "    </tr>\n",
       "    <tr>\n",
       "      <th>2</th>\n",
       "      <td>1;1;5;9070;1;1;122.0;1;37;37;9;9;124.8;1;0;0;0...</td>\n",
       "    </tr>\n",
       "    <tr>\n",
       "      <th>3</th>\n",
       "      <td>1;17;2;9773;1;1;122.0;1;38;37;5;3;119.6;1;0;0;...</td>\n",
       "    </tr>\n",
       "    <tr>\n",
       "      <th>4</th>\n",
       "      <td>2;39;1;8014;0;1;100.0;1;37;38;9;9;141.5;0;0;0;...</td>\n",
       "    </tr>\n",
       "  </tbody>\n",
       "</table>\n",
       "</div>"
      ],
      "text/plain": [
       "  Marital status;Application mode;Application order;Course;\"Daytime/evening attendance\\t\";Previous qualification;Previous qualification (grade);Nacionality;Mother's qualification;Father's qualification;Mother's occupation;Father's occupation;Admission grade;Displaced;Educational special needs;Debtor;Tuition fees up to date;Gender;Scholarship holder;Age at enrollment;International;Curricular units 1st sem (credited);Curricular units 1st sem (enrolled);Curricular units 1st sem (evaluations);Curricular units 1st sem (approved);Curricular units 1st sem (grade);Curricular units 1st sem (without evaluations);Curricular units 2nd sem (credited);Curricular units 2nd sem (enrolled);Curricular units 2nd sem (evaluations);Curricular units 2nd sem (approved);Curricular units 2nd sem (grade);Curricular units 2nd sem (without evaluations);Unemployment rate;Inflation rate;GDP;Target\n",
       "0  1;17;5;171;1;1;122.0;1;19;12;5;9;127.3;1;0;0;1...                                                                                                                                                                                                                                                                                                                                                                                                                                                                                                                                                                                                                                                                                                                                                                                                                                                            \n",
       "1  1;15;1;9254;1;1;160.0;1;1;3;3;3;142.5;1;0;0;0;...                                                                                                                                                                                                                                                                                                                                                                                                                                                                                                                                                                                                                                                                                                                                                                                                                                                            \n",
       "2  1;1;5;9070;1;1;122.0;1;37;37;9;9;124.8;1;0;0;0...                                                                                                                                                                                                                                                                                                                                                                                                                                                                                                                                                                                                                                                                                                                                                                                                                                                            \n",
       "3  1;17;2;9773;1;1;122.0;1;38;37;5;3;119.6;1;0;0;...                                                                                                                                                                                                                                                                                                                                                                                                                                                                                                                                                                                                                                                                                                                                                                                                                                                            \n",
       "4  2;39;1;8014;0;1;100.0;1;37;38;9;9;141.5;0;0;0;...                                                                                                                                                                                                                                                                                                                                                                                                                                                                                                                                                                                                                                                                                                                                                                                                                                                            "
      ]
     },
     "execution_count": 3,
     "metadata": {},
     "output_type": "execute_result"
    }
   ],
   "source": [
    "import pandas as pd\n",
    "\n",
    "# Load the dataset\n",
    "data = pd.read_csv(\"data_dropout.csv\")\n",
    "\n",
    "# Display the first few rows of the dataset\n",
    "data.head()"
   ]
  },
  {
   "cell_type": "markdown",
   "id": "91aaea1b",
   "metadata": {},
   "source": [
    "It appears that the dataset uses a semicolon (;) as the delimiter.\n",
    "\n",
    "Reload the dataset with the correct delimiter and then proceed with our exploration."
   ]
  },
  {
   "cell_type": "code",
   "execution_count": 4,
   "id": "2f07235c",
   "metadata": {},
   "outputs": [
    {
     "data": {
      "text/html": [
       "<div>\n",
       "<style scoped>\n",
       "    .dataframe tbody tr th:only-of-type {\n",
       "        vertical-align: middle;\n",
       "    }\n",
       "\n",
       "    .dataframe tbody tr th {\n",
       "        vertical-align: top;\n",
       "    }\n",
       "\n",
       "    .dataframe thead th {\n",
       "        text-align: right;\n",
       "    }\n",
       "</style>\n",
       "<table border=\"1\" class=\"dataframe\">\n",
       "  <thead>\n",
       "    <tr style=\"text-align: right;\">\n",
       "      <th></th>\n",
       "      <th>Marital status</th>\n",
       "      <th>Application mode</th>\n",
       "      <th>Application order</th>\n",
       "      <th>Course</th>\n",
       "      <th>Daytime/evening attendance\\t</th>\n",
       "      <th>Previous qualification</th>\n",
       "      <th>Previous qualification (grade)</th>\n",
       "      <th>Nacionality</th>\n",
       "      <th>Mother's qualification</th>\n",
       "      <th>Father's qualification</th>\n",
       "      <th>...</th>\n",
       "      <th>Curricular units 2nd sem (credited)</th>\n",
       "      <th>Curricular units 2nd sem (enrolled)</th>\n",
       "      <th>Curricular units 2nd sem (evaluations)</th>\n",
       "      <th>Curricular units 2nd sem (approved)</th>\n",
       "      <th>Curricular units 2nd sem (grade)</th>\n",
       "      <th>Curricular units 2nd sem (without evaluations)</th>\n",
       "      <th>Unemployment rate</th>\n",
       "      <th>Inflation rate</th>\n",
       "      <th>GDP</th>\n",
       "      <th>Target</th>\n",
       "    </tr>\n",
       "  </thead>\n",
       "  <tbody>\n",
       "    <tr>\n",
       "      <th>0</th>\n",
       "      <td>1</td>\n",
       "      <td>17</td>\n",
       "      <td>5</td>\n",
       "      <td>171</td>\n",
       "      <td>1</td>\n",
       "      <td>1</td>\n",
       "      <td>122.0</td>\n",
       "      <td>1</td>\n",
       "      <td>19</td>\n",
       "      <td>12</td>\n",
       "      <td>...</td>\n",
       "      <td>0</td>\n",
       "      <td>0</td>\n",
       "      <td>0</td>\n",
       "      <td>0</td>\n",
       "      <td>0.000000</td>\n",
       "      <td>0</td>\n",
       "      <td>10.8</td>\n",
       "      <td>1.4</td>\n",
       "      <td>1.74</td>\n",
       "      <td>Dropout</td>\n",
       "    </tr>\n",
       "    <tr>\n",
       "      <th>1</th>\n",
       "      <td>1</td>\n",
       "      <td>15</td>\n",
       "      <td>1</td>\n",
       "      <td>9254</td>\n",
       "      <td>1</td>\n",
       "      <td>1</td>\n",
       "      <td>160.0</td>\n",
       "      <td>1</td>\n",
       "      <td>1</td>\n",
       "      <td>3</td>\n",
       "      <td>...</td>\n",
       "      <td>0</td>\n",
       "      <td>6</td>\n",
       "      <td>6</td>\n",
       "      <td>6</td>\n",
       "      <td>13.666667</td>\n",
       "      <td>0</td>\n",
       "      <td>13.9</td>\n",
       "      <td>-0.3</td>\n",
       "      <td>0.79</td>\n",
       "      <td>Graduate</td>\n",
       "    </tr>\n",
       "    <tr>\n",
       "      <th>2</th>\n",
       "      <td>1</td>\n",
       "      <td>1</td>\n",
       "      <td>5</td>\n",
       "      <td>9070</td>\n",
       "      <td>1</td>\n",
       "      <td>1</td>\n",
       "      <td>122.0</td>\n",
       "      <td>1</td>\n",
       "      <td>37</td>\n",
       "      <td>37</td>\n",
       "      <td>...</td>\n",
       "      <td>0</td>\n",
       "      <td>6</td>\n",
       "      <td>0</td>\n",
       "      <td>0</td>\n",
       "      <td>0.000000</td>\n",
       "      <td>0</td>\n",
       "      <td>10.8</td>\n",
       "      <td>1.4</td>\n",
       "      <td>1.74</td>\n",
       "      <td>Dropout</td>\n",
       "    </tr>\n",
       "    <tr>\n",
       "      <th>3</th>\n",
       "      <td>1</td>\n",
       "      <td>17</td>\n",
       "      <td>2</td>\n",
       "      <td>9773</td>\n",
       "      <td>1</td>\n",
       "      <td>1</td>\n",
       "      <td>122.0</td>\n",
       "      <td>1</td>\n",
       "      <td>38</td>\n",
       "      <td>37</td>\n",
       "      <td>...</td>\n",
       "      <td>0</td>\n",
       "      <td>6</td>\n",
       "      <td>10</td>\n",
       "      <td>5</td>\n",
       "      <td>12.400000</td>\n",
       "      <td>0</td>\n",
       "      <td>9.4</td>\n",
       "      <td>-0.8</td>\n",
       "      <td>-3.12</td>\n",
       "      <td>Graduate</td>\n",
       "    </tr>\n",
       "    <tr>\n",
       "      <th>4</th>\n",
       "      <td>2</td>\n",
       "      <td>39</td>\n",
       "      <td>1</td>\n",
       "      <td>8014</td>\n",
       "      <td>0</td>\n",
       "      <td>1</td>\n",
       "      <td>100.0</td>\n",
       "      <td>1</td>\n",
       "      <td>37</td>\n",
       "      <td>38</td>\n",
       "      <td>...</td>\n",
       "      <td>0</td>\n",
       "      <td>6</td>\n",
       "      <td>6</td>\n",
       "      <td>6</td>\n",
       "      <td>13.000000</td>\n",
       "      <td>0</td>\n",
       "      <td>13.9</td>\n",
       "      <td>-0.3</td>\n",
       "      <td>0.79</td>\n",
       "      <td>Graduate</td>\n",
       "    </tr>\n",
       "  </tbody>\n",
       "</table>\n",
       "<p>5 rows × 37 columns</p>\n",
       "</div>"
      ],
      "text/plain": [
       "   Marital status  Application mode  Application order  Course  \\\n",
       "0               1                17                  5     171   \n",
       "1               1                15                  1    9254   \n",
       "2               1                 1                  5    9070   \n",
       "3               1                17                  2    9773   \n",
       "4               2                39                  1    8014   \n",
       "\n",
       "   Daytime/evening attendance\\t  Previous qualification  \\\n",
       "0                             1                       1   \n",
       "1                             1                       1   \n",
       "2                             1                       1   \n",
       "3                             1                       1   \n",
       "4                             0                       1   \n",
       "\n",
       "   Previous qualification (grade)  Nacionality  Mother's qualification  \\\n",
       "0                           122.0            1                      19   \n",
       "1                           160.0            1                       1   \n",
       "2                           122.0            1                      37   \n",
       "3                           122.0            1                      38   \n",
       "4                           100.0            1                      37   \n",
       "\n",
       "   Father's qualification  ...  Curricular units 2nd sem (credited)  \\\n",
       "0                      12  ...                                    0   \n",
       "1                       3  ...                                    0   \n",
       "2                      37  ...                                    0   \n",
       "3                      37  ...                                    0   \n",
       "4                      38  ...                                    0   \n",
       "\n",
       "   Curricular units 2nd sem (enrolled)  \\\n",
       "0                                    0   \n",
       "1                                    6   \n",
       "2                                    6   \n",
       "3                                    6   \n",
       "4                                    6   \n",
       "\n",
       "   Curricular units 2nd sem (evaluations)  \\\n",
       "0                                       0   \n",
       "1                                       6   \n",
       "2                                       0   \n",
       "3                                      10   \n",
       "4                                       6   \n",
       "\n",
       "   Curricular units 2nd sem (approved)  Curricular units 2nd sem (grade)  \\\n",
       "0                                    0                          0.000000   \n",
       "1                                    6                         13.666667   \n",
       "2                                    0                          0.000000   \n",
       "3                                    5                         12.400000   \n",
       "4                                    6                         13.000000   \n",
       "\n",
       "   Curricular units 2nd sem (without evaluations)  Unemployment rate  \\\n",
       "0                                               0               10.8   \n",
       "1                                               0               13.9   \n",
       "2                                               0               10.8   \n",
       "3                                               0                9.4   \n",
       "4                                               0               13.9   \n",
       "\n",
       "   Inflation rate   GDP    Target  \n",
       "0             1.4  1.74   Dropout  \n",
       "1            -0.3  0.79  Graduate  \n",
       "2             1.4  1.74   Dropout  \n",
       "3            -0.8 -3.12  Graduate  \n",
       "4            -0.3  0.79  Graduate  \n",
       "\n",
       "[5 rows x 37 columns]"
      ]
     },
     "execution_count": 4,
     "metadata": {},
     "output_type": "execute_result"
    }
   ],
   "source": [
    "# Load the dataset with the correct delimiter\n",
    "data = pd.read_csv(\"data_dropout.csv\", delimiter=\";\")\n",
    "\n",
    "# Display the first few rows of the dataset\n",
    "data.head()\n"
   ]
  },
  {
   "cell_type": "markdown",
   "id": "3e0ab6a3",
   "metadata": {},
   "source": [
    "## EDA"
   ]
  },
  {
   "cell_type": "code",
   "execution_count": 5,
   "id": "8c3723f7",
   "metadata": {},
   "outputs": [
    {
     "data": {
      "text/plain": [
       "(4424, 37)"
      ]
     },
     "execution_count": 5,
     "metadata": {},
     "output_type": "execute_result"
    }
   ],
   "source": [
    "# Check the shape of the dataset\n",
    "data_shape = data.shape\n",
    "data_shape"
   ]
  },
  {
   "cell_type": "markdown",
   "id": "109ed504",
   "metadata": {},
   "source": [
    "4424 observations, 36 inputs, 1 target variable"
   ]
  },
  {
   "cell_type": "code",
   "execution_count": 6,
   "id": "0a431ca5",
   "metadata": {},
   "outputs": [
    {
     "data": {
      "text/html": [
       "<div>\n",
       "<style scoped>\n",
       "    .dataframe tbody tr th:only-of-type {\n",
       "        vertical-align: middle;\n",
       "    }\n",
       "\n",
       "    .dataframe tbody tr th {\n",
       "        vertical-align: top;\n",
       "    }\n",
       "\n",
       "    .dataframe thead th {\n",
       "        text-align: right;\n",
       "    }\n",
       "</style>\n",
       "<table border=\"1\" class=\"dataframe\">\n",
       "  <thead>\n",
       "    <tr style=\"text-align: right;\">\n",
       "      <th></th>\n",
       "      <th>Marital status</th>\n",
       "      <th>Application mode</th>\n",
       "      <th>Application order</th>\n",
       "      <th>Course</th>\n",
       "      <th>Daytime/evening attendance\\t</th>\n",
       "      <th>Previous qualification</th>\n",
       "      <th>Previous qualification (grade)</th>\n",
       "      <th>Nacionality</th>\n",
       "      <th>Mother's qualification</th>\n",
       "      <th>Father's qualification</th>\n",
       "      <th>...</th>\n",
       "      <th>Curricular units 1st sem (without evaluations)</th>\n",
       "      <th>Curricular units 2nd sem (credited)</th>\n",
       "      <th>Curricular units 2nd sem (enrolled)</th>\n",
       "      <th>Curricular units 2nd sem (evaluations)</th>\n",
       "      <th>Curricular units 2nd sem (approved)</th>\n",
       "      <th>Curricular units 2nd sem (grade)</th>\n",
       "      <th>Curricular units 2nd sem (without evaluations)</th>\n",
       "      <th>Unemployment rate</th>\n",
       "      <th>Inflation rate</th>\n",
       "      <th>GDP</th>\n",
       "    </tr>\n",
       "  </thead>\n",
       "  <tbody>\n",
       "    <tr>\n",
       "      <th>count</th>\n",
       "      <td>4424.000000</td>\n",
       "      <td>4424.000000</td>\n",
       "      <td>4424.000000</td>\n",
       "      <td>4424.000000</td>\n",
       "      <td>4424.000000</td>\n",
       "      <td>4424.000000</td>\n",
       "      <td>4424.000000</td>\n",
       "      <td>4424.000000</td>\n",
       "      <td>4424.000000</td>\n",
       "      <td>4424.000000</td>\n",
       "      <td>...</td>\n",
       "      <td>4424.000000</td>\n",
       "      <td>4424.000000</td>\n",
       "      <td>4424.000000</td>\n",
       "      <td>4424.000000</td>\n",
       "      <td>4424.000000</td>\n",
       "      <td>4424.000000</td>\n",
       "      <td>4424.000000</td>\n",
       "      <td>4424.000000</td>\n",
       "      <td>4424.000000</td>\n",
       "      <td>4424.000000</td>\n",
       "    </tr>\n",
       "    <tr>\n",
       "      <th>mean</th>\n",
       "      <td>1.178571</td>\n",
       "      <td>18.669078</td>\n",
       "      <td>1.727848</td>\n",
       "      <td>8856.642631</td>\n",
       "      <td>0.890823</td>\n",
       "      <td>4.577758</td>\n",
       "      <td>132.613314</td>\n",
       "      <td>1.873192</td>\n",
       "      <td>19.561935</td>\n",
       "      <td>22.275316</td>\n",
       "      <td>...</td>\n",
       "      <td>0.137658</td>\n",
       "      <td>0.541817</td>\n",
       "      <td>6.232143</td>\n",
       "      <td>8.063291</td>\n",
       "      <td>4.435805</td>\n",
       "      <td>10.230206</td>\n",
       "      <td>0.150316</td>\n",
       "      <td>11.566139</td>\n",
       "      <td>1.228029</td>\n",
       "      <td>0.001969</td>\n",
       "    </tr>\n",
       "    <tr>\n",
       "      <th>std</th>\n",
       "      <td>0.605747</td>\n",
       "      <td>17.484682</td>\n",
       "      <td>1.313793</td>\n",
       "      <td>2063.566416</td>\n",
       "      <td>0.311897</td>\n",
       "      <td>10.216592</td>\n",
       "      <td>13.188332</td>\n",
       "      <td>6.914514</td>\n",
       "      <td>15.603186</td>\n",
       "      <td>15.343108</td>\n",
       "      <td>...</td>\n",
       "      <td>0.690880</td>\n",
       "      <td>1.918546</td>\n",
       "      <td>2.195951</td>\n",
       "      <td>3.947951</td>\n",
       "      <td>3.014764</td>\n",
       "      <td>5.210808</td>\n",
       "      <td>0.753774</td>\n",
       "      <td>2.663850</td>\n",
       "      <td>1.382711</td>\n",
       "      <td>2.269935</td>\n",
       "    </tr>\n",
       "    <tr>\n",
       "      <th>min</th>\n",
       "      <td>1.000000</td>\n",
       "      <td>1.000000</td>\n",
       "      <td>0.000000</td>\n",
       "      <td>33.000000</td>\n",
       "      <td>0.000000</td>\n",
       "      <td>1.000000</td>\n",
       "      <td>95.000000</td>\n",
       "      <td>1.000000</td>\n",
       "      <td>1.000000</td>\n",
       "      <td>1.000000</td>\n",
       "      <td>...</td>\n",
       "      <td>0.000000</td>\n",
       "      <td>0.000000</td>\n",
       "      <td>0.000000</td>\n",
       "      <td>0.000000</td>\n",
       "      <td>0.000000</td>\n",
       "      <td>0.000000</td>\n",
       "      <td>0.000000</td>\n",
       "      <td>7.600000</td>\n",
       "      <td>-0.800000</td>\n",
       "      <td>-4.060000</td>\n",
       "    </tr>\n",
       "    <tr>\n",
       "      <th>25%</th>\n",
       "      <td>1.000000</td>\n",
       "      <td>1.000000</td>\n",
       "      <td>1.000000</td>\n",
       "      <td>9085.000000</td>\n",
       "      <td>1.000000</td>\n",
       "      <td>1.000000</td>\n",
       "      <td>125.000000</td>\n",
       "      <td>1.000000</td>\n",
       "      <td>2.000000</td>\n",
       "      <td>3.000000</td>\n",
       "      <td>...</td>\n",
       "      <td>0.000000</td>\n",
       "      <td>0.000000</td>\n",
       "      <td>5.000000</td>\n",
       "      <td>6.000000</td>\n",
       "      <td>2.000000</td>\n",
       "      <td>10.750000</td>\n",
       "      <td>0.000000</td>\n",
       "      <td>9.400000</td>\n",
       "      <td>0.300000</td>\n",
       "      <td>-1.700000</td>\n",
       "    </tr>\n",
       "    <tr>\n",
       "      <th>50%</th>\n",
       "      <td>1.000000</td>\n",
       "      <td>17.000000</td>\n",
       "      <td>1.000000</td>\n",
       "      <td>9238.000000</td>\n",
       "      <td>1.000000</td>\n",
       "      <td>1.000000</td>\n",
       "      <td>133.100000</td>\n",
       "      <td>1.000000</td>\n",
       "      <td>19.000000</td>\n",
       "      <td>19.000000</td>\n",
       "      <td>...</td>\n",
       "      <td>0.000000</td>\n",
       "      <td>0.000000</td>\n",
       "      <td>6.000000</td>\n",
       "      <td>8.000000</td>\n",
       "      <td>5.000000</td>\n",
       "      <td>12.200000</td>\n",
       "      <td>0.000000</td>\n",
       "      <td>11.100000</td>\n",
       "      <td>1.400000</td>\n",
       "      <td>0.320000</td>\n",
       "    </tr>\n",
       "    <tr>\n",
       "      <th>75%</th>\n",
       "      <td>1.000000</td>\n",
       "      <td>39.000000</td>\n",
       "      <td>2.000000</td>\n",
       "      <td>9556.000000</td>\n",
       "      <td>1.000000</td>\n",
       "      <td>1.000000</td>\n",
       "      <td>140.000000</td>\n",
       "      <td>1.000000</td>\n",
       "      <td>37.000000</td>\n",
       "      <td>37.000000</td>\n",
       "      <td>...</td>\n",
       "      <td>0.000000</td>\n",
       "      <td>0.000000</td>\n",
       "      <td>7.000000</td>\n",
       "      <td>10.000000</td>\n",
       "      <td>6.000000</td>\n",
       "      <td>13.333333</td>\n",
       "      <td>0.000000</td>\n",
       "      <td>13.900000</td>\n",
       "      <td>2.600000</td>\n",
       "      <td>1.790000</td>\n",
       "    </tr>\n",
       "    <tr>\n",
       "      <th>max</th>\n",
       "      <td>6.000000</td>\n",
       "      <td>57.000000</td>\n",
       "      <td>9.000000</td>\n",
       "      <td>9991.000000</td>\n",
       "      <td>1.000000</td>\n",
       "      <td>43.000000</td>\n",
       "      <td>190.000000</td>\n",
       "      <td>109.000000</td>\n",
       "      <td>44.000000</td>\n",
       "      <td>44.000000</td>\n",
       "      <td>...</td>\n",
       "      <td>12.000000</td>\n",
       "      <td>19.000000</td>\n",
       "      <td>23.000000</td>\n",
       "      <td>33.000000</td>\n",
       "      <td>20.000000</td>\n",
       "      <td>18.571429</td>\n",
       "      <td>12.000000</td>\n",
       "      <td>16.200000</td>\n",
       "      <td>3.700000</td>\n",
       "      <td>3.510000</td>\n",
       "    </tr>\n",
       "  </tbody>\n",
       "</table>\n",
       "<p>8 rows × 36 columns</p>\n",
       "</div>"
      ],
      "text/plain": [
       "       Marital status  Application mode  Application order       Course  \\\n",
       "count     4424.000000       4424.000000        4424.000000  4424.000000   \n",
       "mean         1.178571         18.669078           1.727848  8856.642631   \n",
       "std          0.605747         17.484682           1.313793  2063.566416   \n",
       "min          1.000000          1.000000           0.000000    33.000000   \n",
       "25%          1.000000          1.000000           1.000000  9085.000000   \n",
       "50%          1.000000         17.000000           1.000000  9238.000000   \n",
       "75%          1.000000         39.000000           2.000000  9556.000000   \n",
       "max          6.000000         57.000000           9.000000  9991.000000   \n",
       "\n",
       "       Daytime/evening attendance\\t  Previous qualification  \\\n",
       "count                   4424.000000             4424.000000   \n",
       "mean                       0.890823                4.577758   \n",
       "std                        0.311897               10.216592   \n",
       "min                        0.000000                1.000000   \n",
       "25%                        1.000000                1.000000   \n",
       "50%                        1.000000                1.000000   \n",
       "75%                        1.000000                1.000000   \n",
       "max                        1.000000               43.000000   \n",
       "\n",
       "       Previous qualification (grade)  Nacionality  Mother's qualification  \\\n",
       "count                     4424.000000  4424.000000             4424.000000   \n",
       "mean                       132.613314     1.873192               19.561935   \n",
       "std                         13.188332     6.914514               15.603186   \n",
       "min                         95.000000     1.000000                1.000000   \n",
       "25%                        125.000000     1.000000                2.000000   \n",
       "50%                        133.100000     1.000000               19.000000   \n",
       "75%                        140.000000     1.000000               37.000000   \n",
       "max                        190.000000   109.000000               44.000000   \n",
       "\n",
       "       Father's qualification  ...  \\\n",
       "count             4424.000000  ...   \n",
       "mean                22.275316  ...   \n",
       "std                 15.343108  ...   \n",
       "min                  1.000000  ...   \n",
       "25%                  3.000000  ...   \n",
       "50%                 19.000000  ...   \n",
       "75%                 37.000000  ...   \n",
       "max                 44.000000  ...   \n",
       "\n",
       "       Curricular units 1st sem (without evaluations)  \\\n",
       "count                                     4424.000000   \n",
       "mean                                         0.137658   \n",
       "std                                          0.690880   \n",
       "min                                          0.000000   \n",
       "25%                                          0.000000   \n",
       "50%                                          0.000000   \n",
       "75%                                          0.000000   \n",
       "max                                         12.000000   \n",
       "\n",
       "       Curricular units 2nd sem (credited)  \\\n",
       "count                          4424.000000   \n",
       "mean                              0.541817   \n",
       "std                               1.918546   \n",
       "min                               0.000000   \n",
       "25%                               0.000000   \n",
       "50%                               0.000000   \n",
       "75%                               0.000000   \n",
       "max                              19.000000   \n",
       "\n",
       "       Curricular units 2nd sem (enrolled)  \\\n",
       "count                          4424.000000   \n",
       "mean                              6.232143   \n",
       "std                               2.195951   \n",
       "min                               0.000000   \n",
       "25%                               5.000000   \n",
       "50%                               6.000000   \n",
       "75%                               7.000000   \n",
       "max                              23.000000   \n",
       "\n",
       "       Curricular units 2nd sem (evaluations)  \\\n",
       "count                             4424.000000   \n",
       "mean                                 8.063291   \n",
       "std                                  3.947951   \n",
       "min                                  0.000000   \n",
       "25%                                  6.000000   \n",
       "50%                                  8.000000   \n",
       "75%                                 10.000000   \n",
       "max                                 33.000000   \n",
       "\n",
       "       Curricular units 2nd sem (approved)  Curricular units 2nd sem (grade)  \\\n",
       "count                          4424.000000                       4424.000000   \n",
       "mean                              4.435805                         10.230206   \n",
       "std                               3.014764                          5.210808   \n",
       "min                               0.000000                          0.000000   \n",
       "25%                               2.000000                         10.750000   \n",
       "50%                               5.000000                         12.200000   \n",
       "75%                               6.000000                         13.333333   \n",
       "max                              20.000000                         18.571429   \n",
       "\n",
       "       Curricular units 2nd sem (without evaluations)  Unemployment rate  \\\n",
       "count                                     4424.000000        4424.000000   \n",
       "mean                                         0.150316          11.566139   \n",
       "std                                          0.753774           2.663850   \n",
       "min                                          0.000000           7.600000   \n",
       "25%                                          0.000000           9.400000   \n",
       "50%                                          0.000000          11.100000   \n",
       "75%                                          0.000000          13.900000   \n",
       "max                                         12.000000          16.200000   \n",
       "\n",
       "       Inflation rate          GDP  \n",
       "count     4424.000000  4424.000000  \n",
       "mean         1.228029     0.001969  \n",
       "std          1.382711     2.269935  \n",
       "min         -0.800000    -4.060000  \n",
       "25%          0.300000    -1.700000  \n",
       "50%          1.400000     0.320000  \n",
       "75%          2.600000     1.790000  \n",
       "max          3.700000     3.510000  \n",
       "\n",
       "[8 rows x 36 columns]"
      ]
     },
     "execution_count": 6,
     "metadata": {},
     "output_type": "execute_result"
    }
   ],
   "source": [
    "# Get the summary statistics of the numerical features\n",
    "summary_statistics = data.describe()\n",
    "\n",
    "summary_statistics"
   ]
  },
  {
   "cell_type": "markdown",
   "id": "dc9b79cf",
   "metadata": {},
   "source": [
    "The dataset contains 4,424 entries and 37 columns. Here are some observations from the summary statistics:\n",
    "\n",
    "* The dataset seems to have no missing values for the features, as the count for each feature matches the total number of entries.\n",
    "* Features like \"Marital status,\" \"Application mode,\" \"Course,\" and others are integer encoded. Need to consider whether to treat them as categorical and perform one-hot encoding or keep them as is.\n",
    "* Features like \"Previous qualification (grade),\" \"Admission grade,\" and other continuous features have varying scales, and need to consider normalization or standardization.\n",
    "* The target variable is categorical, with classes like \"Dropout\" and \"Graduate.\""
   ]
  },
  {
   "cell_type": "code",
   "execution_count": 7,
   "id": "40be3983",
   "metadata": {},
   "outputs": [
    {
     "data": {
      "text/plain": [
       "Marital status                                    0\n",
       "Application mode                                  0\n",
       "Application order                                 0\n",
       "Course                                            0\n",
       "Daytime/evening attendance\\t                      0\n",
       "Previous qualification                            0\n",
       "Previous qualification (grade)                    0\n",
       "Nacionality                                       0\n",
       "Mother's qualification                            0\n",
       "Father's qualification                            0\n",
       "Mother's occupation                               0\n",
       "Father's occupation                               0\n",
       "Admission grade                                   0\n",
       "Displaced                                         0\n",
       "Educational special needs                         0\n",
       "Debtor                                            0\n",
       "Tuition fees up to date                           0\n",
       "Gender                                            0\n",
       "Scholarship holder                                0\n",
       "Age at enrollment                                 0\n",
       "International                                     0\n",
       "Curricular units 1st sem (credited)               0\n",
       "Curricular units 1st sem (enrolled)               0\n",
       "Curricular units 1st sem (evaluations)            0\n",
       "Curricular units 1st sem (approved)               0\n",
       "Curricular units 1st sem (grade)                  0\n",
       "Curricular units 1st sem (without evaluations)    0\n",
       "Curricular units 2nd sem (credited)               0\n",
       "Curricular units 2nd sem (enrolled)               0\n",
       "Curricular units 2nd sem (evaluations)            0\n",
       "Curricular units 2nd sem (approved)               0\n",
       "Curricular units 2nd sem (grade)                  0\n",
       "Curricular units 2nd sem (without evaluations)    0\n",
       "Unemployment rate                                 0\n",
       "Inflation rate                                    0\n",
       "GDP                                               0\n",
       "Target                                            0\n",
       "dtype: int64"
      ]
     },
     "execution_count": 7,
     "metadata": {},
     "output_type": "execute_result"
    }
   ],
   "source": [
    "# Check for missing values\n",
    "missing_values = data.isnull().sum()\n",
    "\n",
    "missing_values\n"
   ]
  },
  {
   "cell_type": "markdown",
   "id": "8d2ee989",
   "metadata": {},
   "source": [
    "There are no missing values in the dataset."
   ]
  },
  {
   "cell_type": "code",
   "execution_count": 22,
   "id": "a8578367",
   "metadata": {},
   "outputs": [
    {
     "data": {
      "text/plain": [
       "(1556, 2868)"
      ]
     },
     "execution_count": 22,
     "metadata": {},
     "output_type": "execute_result"
    }
   ],
   "source": [
    "# Check if \"Gender\" column exists in the dataset\n",
    "if 'Gender' in data.columns:\n",
    "    # Count the occurrences of 1 (male) and 0 (female) in the \"Gender\" column\n",
    "    male_count = data[data['Gender'] == 1].shape[0]\n",
    "    female_count = data[data['Gender'] == 0].shape[0]\n",
    "else:\n",
    "    male_count = female_count = None\n",
    "\n",
    "male_count, female_count"
   ]
  },
  {
   "cell_type": "code",
   "execution_count": 8,
   "id": "249604a2",
   "metadata": {},
   "outputs": [
    {
     "data": {
      "text/plain": [
       "Graduate    2209\n",
       "Dropout     1421\n",
       "Enrolled     794\n",
       "Name: Target, dtype: int64"
      ]
     },
     "execution_count": 8,
     "metadata": {},
     "output_type": "execute_result"
    }
   ],
   "source": [
    "# Explore the distribution of the target variable\n",
    "target_distribution = data['Target'].value_counts()\n",
    "\n",
    "target_distribution\n"
   ]
  },
  {
   "cell_type": "markdown",
   "id": "9d117b2e",
   "metadata": {},
   "source": [
    "Regarding the target variable distribution:\n",
    "\n",
    "* There are 2,209 instances of the \"Graduate\" class.\n",
    "* There are 1,421 instances of the \"Dropout\" class.\n",
    "* There are 794 instances of the \"Enrolled\" class."
   ]
  },
  {
   "cell_type": "markdown",
   "id": "4d0e7444",
   "metadata": {},
   "source": [
    "## Feature Engineering and Data Preprocessing"
   ]
  },
  {
   "cell_type": "markdown",
   "id": "995f7b74",
   "metadata": {},
   "source": [
    "### One-hot encode the categorical variables\n",
    "\n",
    "many of the integer-encoded features are actually categorical in nature. \n",
    "\n",
    "one-hot encode them to ensure the model doesn't interpret them as ordinal."
   ]
  },
  {
   "cell_type": "code",
   "execution_count": 9,
   "id": "1798671f",
   "metadata": {},
   "outputs": [
    {
     "data": {
      "text/plain": [
       "((4424, 239),\n",
       "    Application order  Daytime/evening attendance\\t  \\\n",
       " 0                  5                             1   \n",
       " 1                  1                             1   \n",
       " 2                  5                             1   \n",
       " 3                  2                             1   \n",
       " 4                  1                             0   \n",
       " \n",
       "    Previous qualification (grade)  Admission grade  Displaced  \\\n",
       " 0                           122.0            127.3          1   \n",
       " 1                           160.0            142.5          1   \n",
       " 2                           122.0            124.8          1   \n",
       " 3                           122.0            119.6          1   \n",
       " 4                           100.0            141.5          0   \n",
       " \n",
       "    Educational special needs  Debtor  Tuition fees up to date  Gender  \\\n",
       " 0                          0       0                        1       1   \n",
       " 1                          0       0                        0       1   \n",
       " 2                          0       0                        0       1   \n",
       " 3                          0       0                        1       0   \n",
       " 4                          0       0                        1       0   \n",
       " \n",
       "    Scholarship holder  ...  Father's occupation_172  Father's occupation_174  \\\n",
       " 0                   0  ...                        0                        0   \n",
       " 1                   0  ...                        0                        0   \n",
       " 2                   0  ...                        0                        0   \n",
       " 3                   0  ...                        0                        0   \n",
       " 4                   0  ...                        0                        0   \n",
       " \n",
       "    Father's occupation_175  Father's occupation_181  Father's occupation_182  \\\n",
       " 0                        0                        0                        0   \n",
       " 1                        0                        0                        0   \n",
       " 2                        0                        0                        0   \n",
       " 3                        0                        0                        0   \n",
       " 4                        0                        0                        0   \n",
       " \n",
       "    Father's occupation_183  Father's occupation_192  Father's occupation_193  \\\n",
       " 0                        0                        0                        0   \n",
       " 1                        0                        0                        0   \n",
       " 2                        0                        0                        0   \n",
       " 3                        0                        0                        0   \n",
       " 4                        0                        0                        0   \n",
       " \n",
       "    Father's occupation_194  Father's occupation_195  \n",
       " 0                        0                        0  \n",
       " 1                        0                        0  \n",
       " 2                        0                        0  \n",
       " 3                        0                        0  \n",
       " 4                        0                        0  \n",
       " \n",
       " [5 rows x 239 columns])"
      ]
     },
     "execution_count": 9,
     "metadata": {},
     "output_type": "execute_result"
    }
   ],
   "source": [
    "# List of columns to be one-hot encoded\n",
    "columns_to_encode = [\n",
    "    \"Marital status\", \"Application mode\", \"Course\", \"Previous qualification\", \n",
    "    \"Nacionality\", \"Mother's qualification\", \"Father's qualification\", \n",
    "    \"Mother's occupation\", \"Father's occupation\"\n",
    "]\n",
    "\n",
    "# One-hot encoding the columns\n",
    "data_encoded = pd.get_dummies(data, columns=columns_to_encode, drop_first=True)\n",
    "\n",
    "# Display the shape and first few rows of the encoded dataset\n",
    "data_encoded_shape = data_encoded.shape\n",
    "data_encoded_head = data_encoded.head()\n",
    "\n",
    "data_encoded_shape, data_encoded_head\n"
   ]
  },
  {
   "cell_type": "markdown",
   "id": "db154296",
   "metadata": {},
   "source": [
    "The dataset has been one-hot encoded, expanding the number of features from 37 to 239 due to the categorical variables."
   ]
  },
  {
   "cell_type": "markdown",
   "id": "0200aebf",
   "metadata": {},
   "source": [
    "### Standardize the continuous features\n",
    "\n",
    "standardize the continuous features to ensure they are on a similar scale."
   ]
  },
  {
   "cell_type": "markdown",
   "id": "f6224df0",
   "metadata": {},
   "source": [
    "Given the description and the nature of the dataset, the following columns appear to be continuous:\n",
    "\n",
    "* Previous qualification (grade)\n",
    "* Admission grade\n",
    "* Age at enrollment\n",
    "* Curricular units 1st sem (grade)\n",
    "* Curricular units 2nd sem (grade)\n",
    "* Unemployment rate\n",
    "* Inflation rate\n",
    "* GDP\n",
    "\n",
    "The continuous features have been standardized using z-score normalization"
   ]
  },
  {
   "cell_type": "code",
   "execution_count": 10,
   "id": "9f44d4ce",
   "metadata": {},
   "outputs": [
    {
     "data": {
      "text/html": [
       "<div>\n",
       "<style scoped>\n",
       "    .dataframe tbody tr th:only-of-type {\n",
       "        vertical-align: middle;\n",
       "    }\n",
       "\n",
       "    .dataframe tbody tr th {\n",
       "        vertical-align: top;\n",
       "    }\n",
       "\n",
       "    .dataframe thead th {\n",
       "        text-align: right;\n",
       "    }\n",
       "</style>\n",
       "<table border=\"1\" class=\"dataframe\">\n",
       "  <thead>\n",
       "    <tr style=\"text-align: right;\">\n",
       "      <th></th>\n",
       "      <th>Application order</th>\n",
       "      <th>Daytime/evening attendance\\t</th>\n",
       "      <th>Previous qualification (grade)</th>\n",
       "      <th>Admission grade</th>\n",
       "      <th>Displaced</th>\n",
       "      <th>Educational special needs</th>\n",
       "      <th>Debtor</th>\n",
       "      <th>Tuition fees up to date</th>\n",
       "      <th>Gender</th>\n",
       "      <th>Scholarship holder</th>\n",
       "      <th>...</th>\n",
       "      <th>Father's occupation_172</th>\n",
       "      <th>Father's occupation_174</th>\n",
       "      <th>Father's occupation_175</th>\n",
       "      <th>Father's occupation_181</th>\n",
       "      <th>Father's occupation_182</th>\n",
       "      <th>Father's occupation_183</th>\n",
       "      <th>Father's occupation_192</th>\n",
       "      <th>Father's occupation_193</th>\n",
       "      <th>Father's occupation_194</th>\n",
       "      <th>Father's occupation_195</th>\n",
       "    </tr>\n",
       "  </thead>\n",
       "  <tbody>\n",
       "    <tr>\n",
       "      <th>0</th>\n",
       "      <td>5</td>\n",
       "      <td>1</td>\n",
       "      <td>-0.804841</td>\n",
       "      <td>0.022229</td>\n",
       "      <td>1</td>\n",
       "      <td>0</td>\n",
       "      <td>0</td>\n",
       "      <td>1</td>\n",
       "      <td>1</td>\n",
       "      <td>0</td>\n",
       "      <td>...</td>\n",
       "      <td>0</td>\n",
       "      <td>0</td>\n",
       "      <td>0</td>\n",
       "      <td>0</td>\n",
       "      <td>0</td>\n",
       "      <td>0</td>\n",
       "      <td>0</td>\n",
       "      <td>0</td>\n",
       "      <td>0</td>\n",
       "      <td>0</td>\n",
       "    </tr>\n",
       "    <tr>\n",
       "      <th>1</th>\n",
       "      <td>1</td>\n",
       "      <td>1</td>\n",
       "      <td>2.076819</td>\n",
       "      <td>1.071926</td>\n",
       "      <td>1</td>\n",
       "      <td>0</td>\n",
       "      <td>0</td>\n",
       "      <td>0</td>\n",
       "      <td>1</td>\n",
       "      <td>0</td>\n",
       "      <td>...</td>\n",
       "      <td>0</td>\n",
       "      <td>0</td>\n",
       "      <td>0</td>\n",
       "      <td>0</td>\n",
       "      <td>0</td>\n",
       "      <td>0</td>\n",
       "      <td>0</td>\n",
       "      <td>0</td>\n",
       "      <td>0</td>\n",
       "      <td>0</td>\n",
       "    </tr>\n",
       "    <tr>\n",
       "      <th>2</th>\n",
       "      <td>5</td>\n",
       "      <td>1</td>\n",
       "      <td>-0.804841</td>\n",
       "      <td>-0.150419</td>\n",
       "      <td>1</td>\n",
       "      <td>0</td>\n",
       "      <td>0</td>\n",
       "      <td>0</td>\n",
       "      <td>1</td>\n",
       "      <td>0</td>\n",
       "      <td>...</td>\n",
       "      <td>0</td>\n",
       "      <td>0</td>\n",
       "      <td>0</td>\n",
       "      <td>0</td>\n",
       "      <td>0</td>\n",
       "      <td>0</td>\n",
       "      <td>0</td>\n",
       "      <td>0</td>\n",
       "      <td>0</td>\n",
       "      <td>0</td>\n",
       "    </tr>\n",
       "    <tr>\n",
       "      <th>3</th>\n",
       "      <td>2</td>\n",
       "      <td>1</td>\n",
       "      <td>-0.804841</td>\n",
       "      <td>-0.509526</td>\n",
       "      <td>1</td>\n",
       "      <td>0</td>\n",
       "      <td>0</td>\n",
       "      <td>1</td>\n",
       "      <td>0</td>\n",
       "      <td>0</td>\n",
       "      <td>...</td>\n",
       "      <td>0</td>\n",
       "      <td>0</td>\n",
       "      <td>0</td>\n",
       "      <td>0</td>\n",
       "      <td>0</td>\n",
       "      <td>0</td>\n",
       "      <td>0</td>\n",
       "      <td>0</td>\n",
       "      <td>0</td>\n",
       "      <td>0</td>\n",
       "    </tr>\n",
       "    <tr>\n",
       "      <th>4</th>\n",
       "      <td>1</td>\n",
       "      <td>0</td>\n",
       "      <td>-2.473171</td>\n",
       "      <td>1.002867</td>\n",
       "      <td>0</td>\n",
       "      <td>0</td>\n",
       "      <td>0</td>\n",
       "      <td>1</td>\n",
       "      <td>0</td>\n",
       "      <td>0</td>\n",
       "      <td>...</td>\n",
       "      <td>0</td>\n",
       "      <td>0</td>\n",
       "      <td>0</td>\n",
       "      <td>0</td>\n",
       "      <td>0</td>\n",
       "      <td>0</td>\n",
       "      <td>0</td>\n",
       "      <td>0</td>\n",
       "      <td>0</td>\n",
       "      <td>0</td>\n",
       "    </tr>\n",
       "  </tbody>\n",
       "</table>\n",
       "<p>5 rows × 239 columns</p>\n",
       "</div>"
      ],
      "text/plain": [
       "   Application order  Daytime/evening attendance\\t  \\\n",
       "0                  5                             1   \n",
       "1                  1                             1   \n",
       "2                  5                             1   \n",
       "3                  2                             1   \n",
       "4                  1                             0   \n",
       "\n",
       "   Previous qualification (grade)  Admission grade  Displaced  \\\n",
       "0                       -0.804841         0.022229          1   \n",
       "1                        2.076819         1.071926          1   \n",
       "2                       -0.804841        -0.150419          1   \n",
       "3                       -0.804841        -0.509526          1   \n",
       "4                       -2.473171         1.002867          0   \n",
       "\n",
       "   Educational special needs  Debtor  Tuition fees up to date  Gender  \\\n",
       "0                          0       0                        1       1   \n",
       "1                          0       0                        0       1   \n",
       "2                          0       0                        0       1   \n",
       "3                          0       0                        1       0   \n",
       "4                          0       0                        1       0   \n",
       "\n",
       "   Scholarship holder  ...  Father's occupation_172  Father's occupation_174  \\\n",
       "0                   0  ...                        0                        0   \n",
       "1                   0  ...                        0                        0   \n",
       "2                   0  ...                        0                        0   \n",
       "3                   0  ...                        0                        0   \n",
       "4                   0  ...                        0                        0   \n",
       "\n",
       "   Father's occupation_175  Father's occupation_181  Father's occupation_182  \\\n",
       "0                        0                        0                        0   \n",
       "1                        0                        0                        0   \n",
       "2                        0                        0                        0   \n",
       "3                        0                        0                        0   \n",
       "4                        0                        0                        0   \n",
       "\n",
       "   Father's occupation_183  Father's occupation_192  Father's occupation_193  \\\n",
       "0                        0                        0                        0   \n",
       "1                        0                        0                        0   \n",
       "2                        0                        0                        0   \n",
       "3                        0                        0                        0   \n",
       "4                        0                        0                        0   \n",
       "\n",
       "   Father's occupation_194  Father's occupation_195  \n",
       "0                        0                        0  \n",
       "1                        0                        0  \n",
       "2                        0                        0  \n",
       "3                        0                        0  \n",
       "4                        0                        0  \n",
       "\n",
       "[5 rows x 239 columns]"
      ]
     },
     "execution_count": 10,
     "metadata": {},
     "output_type": "execute_result"
    }
   ],
   "source": [
    "from sklearn.preprocessing import StandardScaler\n",
    "\n",
    "# Columns to standardize\n",
    "continuous_columns = [\n",
    "    \"Previous qualification (grade)\", \"Admission grade\", \"Age at enrollment\",\n",
    "    \"Curricular units 1st sem (grade)\", \"Curricular units 2nd sem (grade)\",\n",
    "    \"Unemployment rate\", \"Inflation rate\", \"GDP\"\n",
    "]\n",
    "\n",
    "# Standardizing the columns\n",
    "scaler = StandardScaler()\n",
    "data_encoded[continuous_columns] = scaler.fit_transform(data_encoded[continuous_columns])\n",
    "\n",
    "# Display the first few rows of the standardized dataset\n",
    "data_encoded.head()\n"
   ]
  },
  {
   "cell_type": "markdown",
   "id": "d17965b6",
   "metadata": {},
   "source": [
    "### Split the dataset into training and testing sets"
   ]
  },
  {
   "cell_type": "markdown",
   "id": "e0944ef6",
   "metadata": {},
   "source": [
    "Now, let's split the dataset into training and testing sets. This will allow us to train a model on one subset and validate its performance on another unseen subset. We'll use 80% of the data for training and 20% for testing."
   ]
  },
  {
   "cell_type": "code",
   "execution_count": 11,
   "id": "7dbf3e7d",
   "metadata": {},
   "outputs": [
    {
     "data": {
      "text/plain": [
       "((3539, 238), (885, 238), (3539,), (885,))"
      ]
     },
     "execution_count": 11,
     "metadata": {},
     "output_type": "execute_result"
    }
   ],
   "source": [
    "from sklearn.model_selection import train_test_split\n",
    "\n",
    "# Splitting features and target\n",
    "X = data_encoded.drop('Target', axis=1)\n",
    "y = data_encoded['Target']\n",
    "\n",
    "# Splitting data into training and testing sets\n",
    "X_train, X_test, y_train, y_test = train_test_split(X, y, test_size=0.2, random_state=42)\n",
    "\n",
    "X_train.shape, X_test.shape, y_train.shape, y_test.shape\n"
   ]
  },
  {
   "cell_type": "markdown",
   "id": "f4f58113",
   "metadata": {},
   "source": [
    "split the dataset into training and testing sets. Here are the sizes:\n",
    "\n",
    "* Training features: 3539 samples with 238 features\n",
    "* Testing features: 885 samples with 238 features\n",
    "* Training target: 3539 samples\n",
    "* Testing target: 885 samples"
   ]
  },
  {
   "cell_type": "markdown",
   "id": "79ca8571",
   "metadata": {},
   "source": [
    "# Random Forest Classifier"
   ]
  },
  {
   "cell_type": "markdown",
   "id": "c8608f71",
   "metadata": {},
   "source": [
    "Given the multi-class nature of the target variable, I'll use a classification algorithm that can handle multiple classes. One of the commonly used algorithms for multi-class classification is the Random Forest classifier. Let's train a Random Forest classifier on the training data and evaluate its performance on the testing data."
   ]
  },
  {
   "cell_type": "code",
   "execution_count": 12,
   "id": "39f6c4dd",
   "metadata": {},
   "outputs": [
    {
     "data": {
      "text/plain": [
       "(0.7638418079096045,\n",
       " '              precision    recall  f1-score   support\\n\\n     Dropout       0.83      0.75      0.79       316\\n    Enrolled       0.57      0.27      0.37       151\\n    Graduate       0.76      0.95      0.84       418\\n\\n    accuracy                           0.76       885\\n   macro avg       0.72      0.66      0.67       885\\nweighted avg       0.75      0.76      0.74       885\\n')"
      ]
     },
     "execution_count": 12,
     "metadata": {},
     "output_type": "execute_result"
    }
   ],
   "source": [
    "from sklearn.ensemble import RandomForestClassifier\n",
    "from sklearn.metrics import classification_report, accuracy_score\n",
    "\n",
    "# Initialize and train the Random Forest classifier\n",
    "rf_classifier = RandomForestClassifier(random_state=42)\n",
    "rf_classifier.fit(X_train, y_train)\n",
    "\n",
    "# Predictions on the test set\n",
    "y_pred = rf_classifier.predict(X_test)\n",
    "\n",
    "# Evaluate the classifier performance\n",
    "accuracy = accuracy_score(y_test, y_pred)\n",
    "class_report = classification_report(y_test, y_pred)\n",
    "\n",
    "accuracy, class_report\n"
   ]
  },
  {
   "cell_type": "markdown",
   "id": "10ab62f3",
   "metadata": {},
   "source": [
    "The Random Forest classifier achieved an accuracy of approximately 76.38 % on the test set.\n",
    "\n",
    "* Dropout class:\n",
    "    Precision: 0.83\n",
    "    Recall: 0.75\n",
    "    F1-Score: 0.79\n",
    "* Enrolled class:\n",
    "    Precision: 0.57\n",
    "    Recall: 0.27\n",
    "    F1-Score: 0.37\n",
    "* Graduate class:\n",
    "    Precision: 0.76\n",
    "    Recall: 0.95\n",
    "    F1-Score: 0.84\n",
    "    \n",
    "The model performs relatively well for the \"Dropout\" and \"Graduate\" classes. However, its performance for the \"Enrolled\" class is suboptimal, especially in terms of recall, indicating that there are many false negatives for this class.\n",
    "\n",
    "Performing feature selection or extraction to reduce dimensionality."
   ]
  },
  {
   "cell_type": "markdown",
   "id": "b3d63182",
   "metadata": {},
   "source": [
    "# Reduce Dimensionality"
   ]
  },
  {
   "cell_type": "markdown",
   "id": "f1b62829",
   "metadata": {},
   "source": [
    "To reduce dimensionality, one of the most common techniques is Principal Component Analysis (PCA). PCA is a method that transforms the original variables into a new set of variables, which are linear combinations of the original variables. These new variables (or principal components) capture the most variance in the data.\n",
    "\n",
    "Using PCA, we can reduce the number of features while still retaining a significant portion of the original variance."
   ]
  },
  {
   "cell_type": "code",
   "execution_count": 13,
   "id": "79fe2b12",
   "metadata": {},
   "outputs": [
    {
     "data": {
      "image/png": "[encoded data removed]",
      "text/plain": [
       "<Figure size 1200x600 with 1 Axes>"
      ]
     },
     "metadata": {},
     "output_type": "display_data"
    }
   ],
   "source": [
    "from sklearn.decomposition import PCA\n",
    "import matplotlib.pyplot as plt\n",
    "\n",
    "# Perform PCA\n",
    "pca = PCA().fit(X_train)\n",
    "\n",
    "# Plot the explained variance ratio\n",
    "plt.figure(figsize=(12, 6))\n",
    "plt.plot(range(1, len(pca.explained_variance_ratio_) + 1), pca.explained_variance_ratio_.cumsum(), marker='o', linestyle='--')\n",
    "plt.title(\"Explained Variance by Principal Components\")\n",
    "plt.xlabel(\"Number of Components\")\n",
    "plt.ylabel(\"Cumulative Explained Variance\")\n",
    "plt.grid(True)\n",
    "plt.show()\n"
   ]
  },
  {
   "cell_type": "markdown",
   "id": "944d9862",
   "metadata": {},
   "source": [
    "The graph represents the cumulative explained variance as we increase the number of principal components. The x-axis denotes the number of principal components, while the y-axis represents the cumulative explained variance.\n",
    "\n",
    "From the graph, we can see that around 100 principal components explain over 90% of the variance in the dataset. This means that we can reduce the dataset from 238 features to around 100 features while still retaining over 90% of the original variance."
   ]
  },
  {
   "cell_type": "markdown",
   "id": "70ac7d96",
   "metadata": {},
   "source": [
    "Tansform both the training and testing data sets using PCA to retain the top 100 principal components.\n",
    "\n",
    "Train the Random Forest classifier on the transformed training data.\n",
    "\n",
    "Evaluate its performance on the transformed testing data."
   ]
  },
  {
   "cell_type": "code",
   "execution_count": 14,
   "id": "93cdc384",
   "metadata": {},
   "outputs": [
    {
     "data": {
      "text/plain": [
       "(0.751412429378531,\n",
       " '              precision    recall  f1-score   support\\n\\n     Dropout       0.80      0.77      0.78       316\\n    Enrolled       0.55      0.25      0.34       151\\n    Graduate       0.75      0.92      0.83       418\\n\\n    accuracy                           0.75       885\\n   macro avg       0.70      0.64      0.65       885\\nweighted avg       0.73      0.75      0.73       885\\n')"
      ]
     },
     "execution_count": 14,
     "metadata": {},
     "output_type": "execute_result"
    }
   ],
   "source": [
    "# Apply PCA transformation to retain the top 100 components\n",
    "pca = PCA(n_components=100)\n",
    "X_train_pca = pca.fit_transform(X_train)\n",
    "X_test_pca = pca.transform(X_test)\n",
    "\n",
    "# Train the Random Forest classifier on the transformed data\n",
    "rf_classifier_pca = RandomForestClassifier(random_state=42)\n",
    "rf_classifier_pca.fit(X_train_pca, y_train)\n",
    "\n",
    "# Predictions on the transformed test set\n",
    "y_pred_pca = rf_classifier_pca.predict(X_test_pca)\n",
    "\n",
    "# Evaluate the classifier performance\n",
    "accuracy_pca = accuracy_score(y_test, y_pred_pca)\n",
    "class_report_pca = classification_report(y_test, y_pred_pca)\n",
    "\n",
    "accuracy_pca, class_report_pca\n"
   ]
  },
  {
   "cell_type": "markdown",
   "id": "c9fd7c34",
   "metadata": {},
   "source": [
    "After reducing dimensionality with PCA and retaining the top 100 principal components, the Random Forest classifier achieved an accuracy of approximately 74.24 % on the test set. \n",
    "\n",
    "* Dropout class:\n",
    "    Precision: 0.80\n",
    "    Recall: 0.74\n",
    "    F1-Score: 0.77\n",
    "* Enrolled class:\n",
    "    Precision: 0.49\n",
    "    Recall: 0.23\n",
    "    F1-Score: 0.31\n",
    "* Graduate class:\n",
    "    Precision: 0.74\n",
    "    Recall: 0.93\n",
    "    F1-Score: 0.83"
   ]
  },
  {
   "cell_type": "markdown",
   "id": "78ffd3f1",
   "metadata": {},
   "source": [
    "Comparing this to the model trained on the original features, we observe a slight drop in accuracy. This is expected since PCA introduces some information loss. However, considering that we've reduced the number of features by more than half, the performance is still relatively strong.\n",
    "\n",
    "Dimensionality reduction techniques like PCA can be advantageous, especially when computational resources are limited or when working with algorithms that have high computational complexity."
   ]
  },
  {
   "cell_type": "markdown",
   "id": "becaf97b",
   "metadata": {},
   "source": [
    "# Handle Class Imbalance"
   ]
  },
  {
   "cell_type": "markdown",
   "id": "11e99a7d",
   "metadata": {},
   "source": [
    "Handling class imbalance is crucial because imbalanced datasets can lead to biased models that favor the majority class, resulting in suboptimal performance for the minority class. Several techniques can be used to address class imbalance such as resampling (oversampling, undersampling), algorithm-level Approaches (i.e. ensemble methods):\n",
    "\n",
    "\n",
    "Oversampling: Increasing the number of instances in the minority class by duplicating samples or generating synthetic samples. One popular method for this is SMOTE (Synthetic Minority Over-sampling Technique).\n",
    "\n",
    "the SMOTE (Synthetic Minority Over-sampling Technique) to handle the class imbalance. SMOTE works by generating synthetic examples in the feature space. These synthetic instances are generated by interpolating between existing instances in the minority class.\n",
    "\n",
    "* the imblearn library, which provides the SMOTE implementation"
   ]
  },
  {
   "cell_type": "code",
   "execution_count": 15,
   "id": "ffa4dca7",
   "metadata": {},
   "outputs": [
    {
     "name": "stdout",
     "output_type": "stream",
     "text": [
      "Requirement already satisfied: imbalanced-learn in /Users/selin/opt/anaconda3/lib/python3.9/site-packages (0.11.0)\n",
      "Requirement already satisfied: joblib>=1.1.1 in /Users/selin/opt/anaconda3/lib/python3.9/site-packages (from imbalanced-learn) (1.3.2)\n",
      "Requirement already satisfied: scikit-learn>=1.0.2 in /Users/selin/opt/anaconda3/lib/python3.9/site-packages (from imbalanced-learn) (1.1.1)\n",
      "Requirement already satisfied: scipy>=1.5.0 in /Users/selin/opt/anaconda3/lib/python3.9/site-packages (from imbalanced-learn) (1.7.3)\n",
      "Requirement already satisfied: numpy>=1.17.3 in /Users/selin/opt/anaconda3/lib/python3.9/site-packages (from imbalanced-learn) (1.21.5)\n",
      "Requirement already satisfied: threadpoolctl>=2.0.0 in /Users/selin/opt/anaconda3/lib/python3.9/site-packages (from imbalanced-learn) (2.2.0)\n"
     ]
    },
    {
     "data": {
      "text/plain": [
       "Dropout     1791\n",
       "Enrolled    1791\n",
       "Graduate    1791\n",
       "Name: Target, dtype: int64"
      ]
     },
     "execution_count": 15,
     "metadata": {},
     "output_type": "execute_result"
    }
   ],
   "source": [
    "!pip install imbalanced-learn\n",
    "\n",
    "\n",
    "from imblearn.over_sampling import SMOTE\n",
    "\n",
    "# Initialize SMOTE\n",
    "smote = SMOTE(random_state=42)\n",
    "\n",
    "# Apply SMOTE to the training data\n",
    "X_train_smote, y_train_smote = smote.fit_resample(X_train_pca, y_train)\n",
    "\n",
    "# Check the distribution of the target variable after SMOTE\n",
    "y_train_smote_distribution = y_train_smote.value_counts()\n",
    "\n",
    "y_train_smote_distribution\n"
   ]
  },
  {
   "cell_type": "code",
   "execution_count": 16,
   "id": "6bed0222",
   "metadata": {},
   "outputs": [
    {
     "data": {
      "text/plain": [
       "((5373, 100), (885, 100), (5373,), (885,))"
      ]
     },
     "execution_count": 16,
     "metadata": {},
     "output_type": "execute_result"
    }
   ],
   "source": [
    "X_train_smote.shape, X_test_pca.shape, y_train_smote.shape, y_test.shape"
   ]
  },
  {
   "cell_type": "code",
   "execution_count": 17,
   "id": "cc042fdb",
   "metadata": {},
   "outputs": [
    {
     "data": {
      "text/plain": [
       "(0.7333333333333333,\n",
       " '              precision    recall  f1-score   support\\n\\n     Dropout       0.79      0.75      0.77       316\\n    Enrolled       0.45      0.46      0.45       151\\n    Graduate       0.80      0.82      0.81       418\\n\\n    accuracy                           0.73       885\\n   macro avg       0.68      0.68      0.68       885\\nweighted avg       0.73      0.73      0.73       885\\n')"
      ]
     },
     "execution_count": 17,
     "metadata": {},
     "output_type": "execute_result"
    }
   ],
   "source": [
    "# Initialize and train the Random Forest classifier\n",
    "rf_classifier = RandomForestClassifier(random_state=42)\n",
    "rf_classifier.fit(X_train_smote, y_train_smote)\n",
    "\n",
    "# Predictions on the test set\n",
    "y_pred = rf_classifier.predict(X_test_pca)\n",
    "\n",
    "# Evaluate the classifier performance\n",
    "accuracy = accuracy_score(y_test, y_pred)\n",
    "class_report = classification_report(y_test, y_pred)\n",
    "\n",
    "accuracy, class_report"
   ]
  },
  {
   "cell_type": "markdown",
   "id": "e60702b0",
   "metadata": {},
   "source": [
    "After handling class imbalance using the SMOTE method, the Random Forest classifier achieved an accuracy of approximately 74.24 % on the test set. \n",
    "\n",
    "* Dropout class:\n",
    "    Precision: 0.79\n",
    "    Recall: 0.78\n",
    "    F1-Score: 0.78\n",
    "* Enrolled class:\n",
    "    Precision: 0.47\n",
    "    Recall: 0.28\n",
    "    F1-Score: 0.48\n",
    "* Graduate class:\n",
    "    Precision: 0.81\n",
    "    Recall: 0.81\n",
    "    F1-Score: 0.81"
   ]
  },
  {
   "cell_type": "markdown",
   "id": "328e58e0",
   "metadata": {},
   "source": [
    "While handling class imbalance using SMOTE did not improve overall accuracy, it led to improvements in precision, recall, and F1-Scores for specific classes, particularly for the \"Dropout\" and \"Graduate\" classes. The trade-off between precision and recall varies depending on the class, and the choice of whether to use SMOTE should consider the specific goals and requirements of the classification task.\n",
    "\n",
    "* Accuracy: The accuracy remains the same in both cases (approximately 74.24%), indicating that handling class imbalance using SMOTE did not improve overall accuracy.\n",
    "\n",
    "     Dropout Class: Precision and Recall both increased after using SMOTE. This indicates that the model is better at correctly identifying and classifying instances belonging to the \"Dropout\" class, both in terms of precision (fewer false positives) and recall (fewer false negatives). The F1-Score also improved, suggesting a better balance between precision and recall.\n",
    "    \n",
    "     Enrolled Class: Precision decreased after using SMOTE, indicating that the model's ability to correctly classify instances belonging to the \"Enrolled\" class with precision decreased. However, recall improved slightly, meaning that the model is better at capturing more instances of this class. The F1-Score also increased, reflecting an overall improvement in classification performance for this class.\n",
    "    \n",
    "     Graduate Class:Precision increased after using SMOTE, indicating that the model's ability to correctly classify instances belonging to the \"Graduate\" class with precision improved. Recall remained the same. Consequently, the F1-Score also improved, reflecting a better balance between precision and recall for this class."
   ]
  },
  {
   "cell_type": "markdown",
   "id": "f1811cbd",
   "metadata": {},
   "source": [
    "# Results\n",
    "## Feature Importance"
   ]
  },
  {
   "cell_type": "markdown",
   "id": "9fb0ccf2",
   "metadata": {},
   "source": [
    "Feature importance can provide insights into which features are most influential in making predictions. "
   ]
  },
  {
   "cell_type": "code",
   "execution_count": 18,
   "id": "caee5767",
   "metadata": {},
   "outputs": [
    {
     "name": "stderr",
     "output_type": "stream",
     "text": [
      "/Users/selin/opt/anaconda3/lib/python3.9/site-packages/IPython/core/pylabtools.py:151: UserWarning: Glyph 9 (\t) missing from current font.\n",
      "  fig.canvas.print_figure(bytes_io, **kw)\n"
     ]
    },
    {
     "data": {
      "image/png": "[encoded data removed]",
      "text/plain": [
       "<Figure size 1500x1000 with 1 Axes>"
      ]
     },
     "metadata": {},
     "output_type": "display_data"
    }
   ],
   "source": [
    "# Extract feature importance\n",
    "feature_importance = rf_classifier.feature_importances_\n",
    "\n",
    "# Pair each feature with its importance\n",
    "features = X_train.columns\n",
    "feature_importance_pairs = list(zip(features, feature_importance))\n",
    "\n",
    "# Sort features based on importance\n",
    "sorted_feature_importance = sorted(feature_importance_pairs, key=lambda x: x[1], reverse=True)\n",
    "\n",
    "# Extract the top 20 most important features for visualization\n",
    "top_features = [x[0] for x in sorted_feature_importance[:20]]\n",
    "top_importance = [x[1] for x in sorted_feature_importance[:20]]\n",
    "\n",
    "# Visualize the top features\n",
    "plt.figure(figsize=(15, 10))\n",
    "plt.barh(top_features, top_importance, align='center')\n",
    "plt.gca().invert_yaxis()  # Highest importance at the top\n",
    "plt.xlabel('Importance')\n",
    "plt.title('Top 20 Feature Importance using Random Forest')\n",
    "plt.show()\n"
   ]
  },
  {
   "cell_type": "markdown",
   "id": "3ca61c5b",
   "metadata": {},
   "source": [
    "The visualization above displays the top 20 most important features, as determined by the Random Forest classifier. The importance scores are normalized such that they sum to 1, with higher values indicating greater importance.\n",
    "\n",
    "From the graph, we can see which features have the most influence on the classifier's predictions. For instance, \"Admission grade,\" \"Age at enrollment,\" and several other features stand out as particularly important."
   ]
  },
  {
   "cell_type": "markdown",
   "id": "776bdec8",
   "metadata": {},
   "source": [
    "## Confusion Matrix"
   ]
  },
  {
   "cell_type": "markdown",
   "id": "e28c4f9d",
   "metadata": {},
   "source": [
    "A table used to describe the performance of a classification model on a set of data for which the true values are known.\n",
    "\n",
    "Create a heatmap to represent the matrix, as it offers a visually appealing and interpretable representation of the classifier's performance across different classes"
   ]
  },
  {
   "cell_type": "code",
   "execution_count": 19,
   "id": "5ea00b64",
   "metadata": {},
   "outputs": [
    {
     "data": {
      "image/png": "[encoded data removed]",
      "text/plain": [
       "<Figure size 1000x700 with 2 Axes>"
      ]
     },
     "metadata": {},
     "output_type": "display_data"
    }
   ],
   "source": [
    "from sklearn.metrics import confusion_matrix\n",
    "import seaborn as sns\n",
    "\n",
    "# Compute the confusion matrix\n",
    "cm = confusion_matrix(y_test, y_pred)\n",
    "\n",
    "# Plotting the confusion matrix as a heatmap\n",
    "plt.figure(figsize=(10, 7))\n",
    "sns.heatmap(cm, annot=True, fmt='g', cmap='Blues', \n",
    "            xticklabels=rf_classifier.classes_, \n",
    "            yticklabels=rf_classifier.classes_)\n",
    "plt.xlabel('Predicted Labels')\n",
    "plt.ylabel('True Labels')\n",
    "plt.title('Confusion Matrix for Random Forest Classifier')\n",
    "plt.show()\n"
   ]
  },
  {
   "cell_type": "markdown",
   "id": "ae3c839f",
   "metadata": {},
   "source": [
    "From the matrix:\n",
    "\n",
    "* Most \"Dropout\" and \"Graduate\" instances are correctly classified, as indicated by the high numbers in the respective diagonal cells.\n",
    "* The \"Enrolled\" class has a higher misclassification rate, with many instances predicted as \"Graduate.\"\n",
    "\n",
    "This visualization helps in identifying which classes the model is performing well on and which classes it's struggling with. In this case, the model seems to struggle most with the \"Enrolled\" class."
   ]
  },
  {
   "cell_type": "markdown",
   "id": "43363596",
   "metadata": {},
   "source": [
    "# Validate Results\n",
    "## Precision, Recall, and F1-Score"
   ]
  },
  {
   "cell_type": "markdown",
   "id": "4d4dcedf",
   "metadata": {},
   "source": [
    "While the confusion matrix provides raw counts of correct and incorrect predictions, these metrics provide a more normalized view of performance for each class."
   ]
  },
  {
   "cell_type": "code",
   "execution_count": 20,
   "id": "421ba476",
   "metadata": {},
   "outputs": [
    {
     "data": {
      "text/plain": [
       "'              precision    recall  f1-score   support\\n\\n     Dropout       0.79      0.75      0.77       316\\n    Enrolled       0.45      0.46      0.45       151\\n    Graduate       0.80      0.82      0.81       418\\n\\n    accuracy                           0.73       885\\n   macro avg       0.68      0.68      0.68       885\\nweighted avg       0.73      0.73      0.73       885\\n'"
      ]
     },
     "execution_count": 20,
     "metadata": {},
     "output_type": "execute_result"
    }
   ],
   "source": [
    "from sklearn.model_selection import cross_val_score\n",
    "\n",
    "# Display the Precision, Recall, and F1-Score\n",
    "classification_metrics = classification_report(y_test, y_pred)\n",
    "\n",
    "classification_metrics\n"
   ]
  },
  {
   "cell_type": "markdown",
   "id": "c31db704",
   "metadata": {},
   "source": [
    "## Cross Validation"
   ]
  },
  {
   "cell_type": "markdown",
   "id": "e913c586",
   "metadata": {},
   "source": [
    "To ensure that the performance isn't due to a specific train-test split, we can use cross-validation. This divides the dataset into multiple folds, trains and tests the model on different combinations of these folds, and then aggregates the results."
   ]
  },
  {
   "cell_type": "code",
   "execution_count": 21,
   "id": "8973e820",
   "metadata": {},
   "outputs": [
    {
     "data": {
      "text/plain": [
       "(array([0.76723164, 0.77175141, 0.77853107, 0.77627119, 0.75565611]),\n",
       " 0.7698882838663497)"
      ]
     },
     "execution_count": 21,
     "metadata": {},
     "output_type": "execute_result"
    }
   ],
   "source": [
    "\n",
    "# Perform cross-validation\n",
    "cv_scores = cross_val_score(rf_classifier, X, y, cv=5, scoring='accuracy')\n",
    "\n",
    "cv_scores, cv_scores.mean()"
   ]
  },
  {
   "cell_type": "markdown",
   "id": "b0143091",
   "metadata": {},
   "source": [
    "Performed 5-fold cross-validation and obtained the following accuracy scores for each fold:\n",
    "\n",
    "* Fold 1: 0.767\n",
    "* Fold 2: 0.772\n",
    "* Fold 3: 0.779\n",
    "* Fold 4: 0.776\n",
    "* Fold 5: 0.756\n",
    "Average Accuracy Across All Folds: 0.77\n",
    "\n",
    "The cross-validation results indicate that the model's performance is consistent across different train-test splits, with an average accuracy of approximately 0.770. This consistency suggests that our model is reasonably robust and not merely tuned to a specific data split."
   ]
  },
  {
   "cell_type": "code",
   "execution_count": null,
   "id": "4b6cc542",
   "metadata": {},
   "outputs": [],
   "source": []
  }
 ],
 "metadata": {
  "kernelspec": {
   "display_name": "Python 3 (ipykernel)",
   "language": "python",
   "name": "python3"
  },
  "language_info": {
   "codemirror_mode": {
    "name": "ipython",
    "version": 3
   },
   "file_extension": ".py",
   "mimetype": "text/x-python",
   "name": "python",
   "nbconvert_exporter": "python",
   "pygments_lexer": "ipython3",
   "version": "3.9.12"
  }
 },
 "nbformat": 4,
 "nbformat_minor": 5
}
